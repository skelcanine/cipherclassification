{
  "nbformat": 4,
  "nbformat_minor": 0,
  "metadata": {
    "colab": {
      "provenance": [],
      "gpuType": "T4"
    },
    "kernelspec": {
      "name": "python3",
      "display_name": "Python 3"
    },
    "language_info": {
      "name": "python"
    },
    "accelerator": "GPU",
    "gpuClass": "standard"
  },
  "cells": [
    {
      "cell_type": "code",
      "execution_count": 2,
      "metadata": {
        "id": "kUgqFq0yqZWO",
        "colab": {
          "base_uri": "https://localhost:8080/"
        },
        "outputId": "5ebcc2ae-710e-4e17-9651-2fb8a89ad834"
      },
      "outputs": [
        {
          "output_type": "stream",
          "name": "stdout",
          "text": [
            "2.12.0\n",
            "[PhysicalDevice(name='/physical_device:GPU:0', device_type='GPU')]\n",
            "Mounted at /content/gdrive\n"
          ]
        }
      ],
      "source": [
        "import pandas as pd\n",
        "import time\n",
        "import os\n",
        "from google.colab import drive\n",
        "import tensorflow as tf\n",
        "from sklearn.model_selection import train_test_split\n",
        "from tensorflow.keras.layers import Dense, Dropout\n",
        "from tensorflow.keras.models import Sequential\n",
        "from sklearn.preprocessing import LabelEncoder\n",
        "from keras.utils import np_utils\n",
        "import numpy as np\n",
        "from sklearn.metrics import confusion_matrix\n",
        "from sklearn import metrics\n",
        "import matplotlib.pyplot as plt\n",
        "\n",
        "\n",
        "#Check the version of TensorFlow you are using\n",
        "print(tf.__version__)\n",
        "print(tf.config.list_physical_devices('GPU'))\n",
        "#Mount drive\n",
        "drive.mount('/content/gdrive')"
      ]
    },
    {
      "cell_type": "code",
      "source": [
        "path = '/content/gdrive/MyDrive/cipherfiles/'\n",
        "#directory_files = os.listdir(path)\n",
        "class_count = 6"
      ],
      "metadata": {
        "id": "V18TyjJ-5Akw"
      },
      "execution_count": 3,
      "outputs": []
    },
    {
      "cell_type": "code",
      "source": [
        "mastercsvpath = path + 'main.csv'\n",
        "masterdf = pd.read_csv(mastercsvpath)"
      ],
      "metadata": {
        "id": "Z4ptL9Ms9a-C"
      },
      "execution_count": 4,
      "outputs": []
    },
    {
      "cell_type": "code",
      "source": [
        "masterdf = masterdf.iloc[:,1:]\n",
        "masterdf.head(10)"
      ],
      "metadata": {
        "colab": {
          "base_uri": "https://localhost:8080/",
          "height": 474
        },
        "id": "v2skz7U9UwJ4",
        "outputId": "8bee6d1e-47a2-4bdf-ce23-e2e8b625a07d"
      },
      "execution_count": 5,
      "outputs": [
        {
          "output_type": "execute_result",
          "data": {
            "text/plain": [
              "   Class  Length  Alphanumeric  Non-Alphanumeric  Alpha  Digit  Lowercase  \\\n",
              "0      0      11            11                 0     11      0          9   \n",
              "1      0      11            11                 0      9      2          6   \n",
              "2      0      22            21                 1     19      2          5   \n",
              "3      0      11            11                 0     10      1          6   \n",
              "4      0      11            11                 0     10      1          4   \n",
              "5      0      11            11                 0      9      2          5   \n",
              "6      0      11            11                 0      9      2          5   \n",
              "7      0      11            11                 0     10      1          8   \n",
              "8      0      11            11                 0      9      2          2   \n",
              "9      0      11            10                 1      8      2          4   \n",
              "\n",
              "   Uppercase  a  b  ...  ~[  ~\\  ~]  ~^  ~_  ~`  ~{  ~|  ~}  ~~  \n",
              "0          2  0  0  ...   0   0   0   0   0   0   0   0   0   0  \n",
              "1          3  0  0  ...   0   0   0   0   0   0   0   0   0   0  \n",
              "2         14  0  0  ...   0   0   0   0   0   0   0   0   0   0  \n",
              "3          4  0  0  ...   0   0   0   0   0   0   0   0   0   0  \n",
              "4          6  0  0  ...   0   0   0   0   0   0   0   0   0   0  \n",
              "5          4  0  0  ...   0   0   0   0   0   0   0   0   0   0  \n",
              "6          4  0  0  ...   0   0   0   0   0   0   0   0   0   0  \n",
              "7          2  1  0  ...   0   0   0   0   0   0   0   0   0   0  \n",
              "8          7  0  0  ...   0   0   0   0   0   0   0   0   0   0  \n",
              "9          4  0  1  ...   0   0   0   0   0   0   0   0   0   0  \n",
              "\n",
              "[10 rows x 8938 columns]"
            ],
            "text/html": [
              "\n",
              "  <div id=\"df-94d25b67-8864-401a-9365-3208a50600d8\">\n",
              "    <div class=\"colab-df-container\">\n",
              "      <div>\n",
              "<style scoped>\n",
              "    .dataframe tbody tr th:only-of-type {\n",
              "        vertical-align: middle;\n",
              "    }\n",
              "\n",
              "    .dataframe tbody tr th {\n",
              "        vertical-align: top;\n",
              "    }\n",
              "\n",
              "    .dataframe thead th {\n",
              "        text-align: right;\n",
              "    }\n",
              "</style>\n",
              "<table border=\"1\" class=\"dataframe\">\n",
              "  <thead>\n",
              "    <tr style=\"text-align: right;\">\n",
              "      <th></th>\n",
              "      <th>Class</th>\n",
              "      <th>Length</th>\n",
              "      <th>Alphanumeric</th>\n",
              "      <th>Non-Alphanumeric</th>\n",
              "      <th>Alpha</th>\n",
              "      <th>Digit</th>\n",
              "      <th>Lowercase</th>\n",
              "      <th>Uppercase</th>\n",
              "      <th>a</th>\n",
              "      <th>b</th>\n",
              "      <th>...</th>\n",
              "      <th>~[</th>\n",
              "      <th>~\\</th>\n",
              "      <th>~]</th>\n",
              "      <th>~^</th>\n",
              "      <th>~_</th>\n",
              "      <th>~`</th>\n",
              "      <th>~{</th>\n",
              "      <th>~|</th>\n",
              "      <th>~}</th>\n",
              "      <th>~~</th>\n",
              "    </tr>\n",
              "  </thead>\n",
              "  <tbody>\n",
              "    <tr>\n",
              "      <th>0</th>\n",
              "      <td>0</td>\n",
              "      <td>11</td>\n",
              "      <td>11</td>\n",
              "      <td>0</td>\n",
              "      <td>11</td>\n",
              "      <td>0</td>\n",
              "      <td>9</td>\n",
              "      <td>2</td>\n",
              "      <td>0</td>\n",
              "      <td>0</td>\n",
              "      <td>...</td>\n",
              "      <td>0</td>\n",
              "      <td>0</td>\n",
              "      <td>0</td>\n",
              "      <td>0</td>\n",
              "      <td>0</td>\n",
              "      <td>0</td>\n",
              "      <td>0</td>\n",
              "      <td>0</td>\n",
              "      <td>0</td>\n",
              "      <td>0</td>\n",
              "    </tr>\n",
              "    <tr>\n",
              "      <th>1</th>\n",
              "      <td>0</td>\n",
              "      <td>11</td>\n",
              "      <td>11</td>\n",
              "      <td>0</td>\n",
              "      <td>9</td>\n",
              "      <td>2</td>\n",
              "      <td>6</td>\n",
              "      <td>3</td>\n",
              "      <td>0</td>\n",
              "      <td>0</td>\n",
              "      <td>...</td>\n",
              "      <td>0</td>\n",
              "      <td>0</td>\n",
              "      <td>0</td>\n",
              "      <td>0</td>\n",
              "      <td>0</td>\n",
              "      <td>0</td>\n",
              "      <td>0</td>\n",
              "      <td>0</td>\n",
              "      <td>0</td>\n",
              "      <td>0</td>\n",
              "    </tr>\n",
              "    <tr>\n",
              "      <th>2</th>\n",
              "      <td>0</td>\n",
              "      <td>22</td>\n",
              "      <td>21</td>\n",
              "      <td>1</td>\n",
              "      <td>19</td>\n",
              "      <td>2</td>\n",
              "      <td>5</td>\n",
              "      <td>14</td>\n",
              "      <td>0</td>\n",
              "      <td>0</td>\n",
              "      <td>...</td>\n",
              "      <td>0</td>\n",
              "      <td>0</td>\n",
              "      <td>0</td>\n",
              "      <td>0</td>\n",
              "      <td>0</td>\n",
              "      <td>0</td>\n",
              "      <td>0</td>\n",
              "      <td>0</td>\n",
              "      <td>0</td>\n",
              "      <td>0</td>\n",
              "    </tr>\n",
              "    <tr>\n",
              "      <th>3</th>\n",
              "      <td>0</td>\n",
              "      <td>11</td>\n",
              "      <td>11</td>\n",
              "      <td>0</td>\n",
              "      <td>10</td>\n",
              "      <td>1</td>\n",
              "      <td>6</td>\n",
              "      <td>4</td>\n",
              "      <td>0</td>\n",
              "      <td>0</td>\n",
              "      <td>...</td>\n",
              "      <td>0</td>\n",
              "      <td>0</td>\n",
              "      <td>0</td>\n",
              "      <td>0</td>\n",
              "      <td>0</td>\n",
              "      <td>0</td>\n",
              "      <td>0</td>\n",
              "      <td>0</td>\n",
              "      <td>0</td>\n",
              "      <td>0</td>\n",
              "    </tr>\n",
              "    <tr>\n",
              "      <th>4</th>\n",
              "      <td>0</td>\n",
              "      <td>11</td>\n",
              "      <td>11</td>\n",
              "      <td>0</td>\n",
              "      <td>10</td>\n",
              "      <td>1</td>\n",
              "      <td>4</td>\n",
              "      <td>6</td>\n",
              "      <td>0</td>\n",
              "      <td>0</td>\n",
              "      <td>...</td>\n",
              "      <td>0</td>\n",
              "      <td>0</td>\n",
              "      <td>0</td>\n",
              "      <td>0</td>\n",
              "      <td>0</td>\n",
              "      <td>0</td>\n",
              "      <td>0</td>\n",
              "      <td>0</td>\n",
              "      <td>0</td>\n",
              "      <td>0</td>\n",
              "    </tr>\n",
              "    <tr>\n",
              "      <th>5</th>\n",
              "      <td>0</td>\n",
              "      <td>11</td>\n",
              "      <td>11</td>\n",
              "      <td>0</td>\n",
              "      <td>9</td>\n",
              "      <td>2</td>\n",
              "      <td>5</td>\n",
              "      <td>4</td>\n",
              "      <td>0</td>\n",
              "      <td>0</td>\n",
              "      <td>...</td>\n",
              "      <td>0</td>\n",
              "      <td>0</td>\n",
              "      <td>0</td>\n",
              "      <td>0</td>\n",
              "      <td>0</td>\n",
              "      <td>0</td>\n",
              "      <td>0</td>\n",
              "      <td>0</td>\n",
              "      <td>0</td>\n",
              "      <td>0</td>\n",
              "    </tr>\n",
              "    <tr>\n",
              "      <th>6</th>\n",
              "      <td>0</td>\n",
              "      <td>11</td>\n",
              "      <td>11</td>\n",
              "      <td>0</td>\n",
              "      <td>9</td>\n",
              "      <td>2</td>\n",
              "      <td>5</td>\n",
              "      <td>4</td>\n",
              "      <td>0</td>\n",
              "      <td>0</td>\n",
              "      <td>...</td>\n",
              "      <td>0</td>\n",
              "      <td>0</td>\n",
              "      <td>0</td>\n",
              "      <td>0</td>\n",
              "      <td>0</td>\n",
              "      <td>0</td>\n",
              "      <td>0</td>\n",
              "      <td>0</td>\n",
              "      <td>0</td>\n",
              "      <td>0</td>\n",
              "    </tr>\n",
              "    <tr>\n",
              "      <th>7</th>\n",
              "      <td>0</td>\n",
              "      <td>11</td>\n",
              "      <td>11</td>\n",
              "      <td>0</td>\n",
              "      <td>10</td>\n",
              "      <td>1</td>\n",
              "      <td>8</td>\n",
              "      <td>2</td>\n",
              "      <td>1</td>\n",
              "      <td>0</td>\n",
              "      <td>...</td>\n",
              "      <td>0</td>\n",
              "      <td>0</td>\n",
              "      <td>0</td>\n",
              "      <td>0</td>\n",
              "      <td>0</td>\n",
              "      <td>0</td>\n",
              "      <td>0</td>\n",
              "      <td>0</td>\n",
              "      <td>0</td>\n",
              "      <td>0</td>\n",
              "    </tr>\n",
              "    <tr>\n",
              "      <th>8</th>\n",
              "      <td>0</td>\n",
              "      <td>11</td>\n",
              "      <td>11</td>\n",
              "      <td>0</td>\n",
              "      <td>9</td>\n",
              "      <td>2</td>\n",
              "      <td>2</td>\n",
              "      <td>7</td>\n",
              "      <td>0</td>\n",
              "      <td>0</td>\n",
              "      <td>...</td>\n",
              "      <td>0</td>\n",
              "      <td>0</td>\n",
              "      <td>0</td>\n",
              "      <td>0</td>\n",
              "      <td>0</td>\n",
              "      <td>0</td>\n",
              "      <td>0</td>\n",
              "      <td>0</td>\n",
              "      <td>0</td>\n",
              "      <td>0</td>\n",
              "    </tr>\n",
              "    <tr>\n",
              "      <th>9</th>\n",
              "      <td>0</td>\n",
              "      <td>11</td>\n",
              "      <td>10</td>\n",
              "      <td>1</td>\n",
              "      <td>8</td>\n",
              "      <td>2</td>\n",
              "      <td>4</td>\n",
              "      <td>4</td>\n",
              "      <td>0</td>\n",
              "      <td>1</td>\n",
              "      <td>...</td>\n",
              "      <td>0</td>\n",
              "      <td>0</td>\n",
              "      <td>0</td>\n",
              "      <td>0</td>\n",
              "      <td>0</td>\n",
              "      <td>0</td>\n",
              "      <td>0</td>\n",
              "      <td>0</td>\n",
              "      <td>0</td>\n",
              "      <td>0</td>\n",
              "    </tr>\n",
              "  </tbody>\n",
              "</table>\n",
              "<p>10 rows × 8938 columns</p>\n",
              "</div>\n",
              "      <button class=\"colab-df-convert\" onclick=\"convertToInteractive('df-94d25b67-8864-401a-9365-3208a50600d8')\"\n",
              "              title=\"Convert this dataframe to an interactive table.\"\n",
              "              style=\"display:none;\">\n",
              "        \n",
              "  <svg xmlns=\"http://www.w3.org/2000/svg\" height=\"24px\"viewBox=\"0 0 24 24\"\n",
              "       width=\"24px\">\n",
              "    <path d=\"M0 0h24v24H0V0z\" fill=\"none\"/>\n",
              "    <path d=\"M18.56 5.44l.94 2.06.94-2.06 2.06-.94-2.06-.94-.94-2.06-.94 2.06-2.06.94zm-11 1L8.5 8.5l.94-2.06 2.06-.94-2.06-.94L8.5 2.5l-.94 2.06-2.06.94zm10 10l.94 2.06.94-2.06 2.06-.94-2.06-.94-.94-2.06-.94 2.06-2.06.94z\"/><path d=\"M17.41 7.96l-1.37-1.37c-.4-.4-.92-.59-1.43-.59-.52 0-1.04.2-1.43.59L10.3 9.45l-7.72 7.72c-.78.78-.78 2.05 0 2.83L4 21.41c.39.39.9.59 1.41.59.51 0 1.02-.2 1.41-.59l7.78-7.78 2.81-2.81c.8-.78.8-2.07 0-2.86zM5.41 20L4 18.59l7.72-7.72 1.47 1.35L5.41 20z\"/>\n",
              "  </svg>\n",
              "      </button>\n",
              "      \n",
              "  <style>\n",
              "    .colab-df-container {\n",
              "      display:flex;\n",
              "      flex-wrap:wrap;\n",
              "      gap: 12px;\n",
              "    }\n",
              "\n",
              "    .colab-df-convert {\n",
              "      background-color: #E8F0FE;\n",
              "      border: none;\n",
              "      border-radius: 50%;\n",
              "      cursor: pointer;\n",
              "      display: none;\n",
              "      fill: #1967D2;\n",
              "      height: 32px;\n",
              "      padding: 0 0 0 0;\n",
              "      width: 32px;\n",
              "    }\n",
              "\n",
              "    .colab-df-convert:hover {\n",
              "      background-color: #E2EBFA;\n",
              "      box-shadow: 0px 1px 2px rgba(60, 64, 67, 0.3), 0px 1px 3px 1px rgba(60, 64, 67, 0.15);\n",
              "      fill: #174EA6;\n",
              "    }\n",
              "\n",
              "    [theme=dark] .colab-df-convert {\n",
              "      background-color: #3B4455;\n",
              "      fill: #D2E3FC;\n",
              "    }\n",
              "\n",
              "    [theme=dark] .colab-df-convert:hover {\n",
              "      background-color: #434B5C;\n",
              "      box-shadow: 0px 1px 3px 1px rgba(0, 0, 0, 0.15);\n",
              "      filter: drop-shadow(0px 1px 2px rgba(0, 0, 0, 0.3));\n",
              "      fill: #FFFFFF;\n",
              "    }\n",
              "  </style>\n",
              "\n",
              "      <script>\n",
              "        const buttonEl =\n",
              "          document.querySelector('#df-94d25b67-8864-401a-9365-3208a50600d8 button.colab-df-convert');\n",
              "        buttonEl.style.display =\n",
              "          google.colab.kernel.accessAllowed ? 'block' : 'none';\n",
              "\n",
              "        async function convertToInteractive(key) {\n",
              "          const element = document.querySelector('#df-94d25b67-8864-401a-9365-3208a50600d8');\n",
              "          const dataTable =\n",
              "            await google.colab.kernel.invokeFunction('convertToInteractive',\n",
              "                                                     [key], {});\n",
              "          if (!dataTable) return;\n",
              "\n",
              "          const docLinkHtml = 'Like what you see? Visit the ' +\n",
              "            '<a target=\"_blank\" href=https://colab.research.google.com/notebooks/data_table.ipynb>data table notebook</a>'\n",
              "            + ' to learn more about interactive tables.';\n",
              "          element.innerHTML = '';\n",
              "          dataTable['output_type'] = 'display_data';\n",
              "          await google.colab.output.renderOutput(dataTable, element);\n",
              "          const docLink = document.createElement('div');\n",
              "          docLink.innerHTML = docLinkHtml;\n",
              "          element.appendChild(docLink);\n",
              "        }\n",
              "      </script>\n",
              "    </div>\n",
              "  </div>\n",
              "  "
            ]
          },
          "metadata": {},
          "execution_count": 5
        }
      ]
    },
    {
      "cell_type": "code",
      "source": [
        "masterdf = masterdf.apply(pd.to_numeric, downcast='integer')"
      ],
      "metadata": {
        "id": "u1Ks4Tg7XRB9"
      },
      "execution_count": 6,
      "outputs": []
    },
    {
      "cell_type": "code",
      "source": [
        "masterdf = masterdf.sample(frac = 1)"
      ],
      "metadata": {
        "id": "HLNoRB-KOAX7"
      },
      "execution_count": 7,
      "outputs": []
    },
    {
      "cell_type": "code",
      "source": [
        "masterdf.head(10)"
      ],
      "metadata": {
        "id": "o1Ea7qJ5ONFX"
      },
      "execution_count": null,
      "outputs": []
    },
    {
      "cell_type": "code",
      "source": [
        "X = masterdf.drop(columns=['Class'])\n",
        "y = masterdf['Class']"
      ],
      "metadata": {
        "id": "arfc7tG5Zux3"
      },
      "execution_count": 9,
      "outputs": []
    },
    {
      "cell_type": "code",
      "source": [
        "\n",
        "dummy_y = np_utils.to_categorical(y)\n",
        "dummy_y"
      ],
      "metadata": {
        "id": "jxDUkFQKMJpw"
      },
      "execution_count": 12,
      "outputs": []
    },
    {
      "cell_type": "code",
      "source": [
        "X_train, X_test, y_train, y_test = train_test_split(X, dummy_y, test_size=0.33, random_state=123)"
      ],
      "metadata": {
        "id": "X_tSi0okOkKv"
      },
      "execution_count": 76,
      "outputs": []
    },
    {
      "cell_type": "code",
      "source": [
        "tf.keras.backend.clear_session()\n",
        "input_number = X_train.shape[1]\n",
        "print(\"input number = \", input_number)\n",
        "\n",
        "model = Sequential()\n",
        "\n",
        "model.add(Dense(4096, activation='relu',name='First_Layer', input_shape=(input_number,)))\n",
        "model.add(Dropout(rate = 0.5,name='Dropout_Layer'))\n",
        "model.add(Dense(2048, activation='relu',name='Second_Layer'))\n",
        "model.add(Dense(1024, activation='relu',name='Third_Layer'))\n",
        "model.add(Dropout(rate = 0.5,name='Dropout_Layer2'))\n",
        "model.add(Dense(512, activation='relu',name='Fourth_Layer'))\n",
        "model.add(Dense(class_count, activation='softmax',name='Fully_Connected_Layer'))\n",
        "\n",
        "model.summary()\n",
        "\n",
        "model.compile(loss='categorical_crossentropy', optimizer='adam', metrics=['accuracy'])"
      ],
      "metadata": {
        "colab": {
          "base_uri": "https://localhost:8080/"
        },
        "id": "vdkkxzGMKU4a",
        "outputId": "e284efa7-90b8-4cee-c6cf-4f0ad530f5fb"
      },
      "execution_count": 77,
      "outputs": [
        {
          "output_type": "stream",
          "name": "stdout",
          "text": [
            "input number =  8937\n",
            "Model: \"sequential\"\n",
            "_________________________________________________________________\n",
            " Layer (type)                Output Shape              Param #   \n",
            "=================================================================\n",
            " First_Layer (Dense)         (None, 4096)              36610048  \n",
            "                                                                 \n",
            " Dropout_Layer (Dropout)     (None, 4096)              0         \n",
            "                                                                 \n",
            " Second_Layer (Dense)        (None, 2048)              8390656   \n",
            "                                                                 \n",
            " Third_Layer (Dense)         (None, 1024)              2098176   \n",
            "                                                                 \n",
            " Dropout_Layer2 (Dropout)    (None, 1024)              0         \n",
            "                                                                 \n",
            " Fourth_Layer (Dense)        (None, 512)               524800    \n",
            "                                                                 \n",
            " Fully_Connected_Layer (Dens  (None, 6)                3078      \n",
            " e)                                                              \n",
            "                                                                 \n",
            "=================================================================\n",
            "Total params: 47,626,758\n",
            "Trainable params: 47,626,758\n",
            "Non-trainable params: 0\n",
            "_________________________________________________________________\n"
          ]
        }
      ]
    },
    {
      "cell_type": "code",
      "source": [
        "history = model.fit(X_train, y_train, validation_split=0.25, verbose=1, epochs=30)"
      ],
      "metadata": {
        "colab": {
          "base_uri": "https://localhost:8080/"
        },
        "id": "pc8lNbRuKpnc",
        "outputId": "92bfcc3b-0522-4af4-a7e1-530fa6caf6b6"
      },
      "execution_count": 78,
      "outputs": [
        {
          "output_type": "stream",
          "name": "stdout",
          "text": [
            "Epoch 1/30\n",
            "942/942 [==============================] - 23s 17ms/step - loss: 0.3916 - accuracy: 0.7858 - val_loss: 0.2664 - val_accuracy: 0.8222\n",
            "Epoch 2/30\n",
            "942/942 [==============================] - 14s 14ms/step - loss: 0.2759 - accuracy: 0.8262 - val_loss: 0.2589 - val_accuracy: 0.8356\n",
            "Epoch 3/30\n",
            "942/942 [==============================] - 12s 13ms/step - loss: 0.2517 - accuracy: 0.8450 - val_loss: 0.2400 - val_accuracy: 0.8371\n",
            "Epoch 4/30\n",
            "942/942 [==============================] - 13s 14ms/step - loss: 0.2471 - accuracy: 0.8553 - val_loss: 0.2439 - val_accuracy: 0.8415\n",
            "Epoch 5/30\n",
            "942/942 [==============================] - 13s 14ms/step - loss: 0.2375 - accuracy: 0.8771 - val_loss: 0.2563 - val_accuracy: 0.8480\n",
            "Epoch 6/30\n",
            "942/942 [==============================] - 13s 13ms/step - loss: 0.2030 - accuracy: 0.8955 - val_loss: 0.2647 - val_accuracy: 0.8464\n",
            "Epoch 7/30\n",
            "942/942 [==============================] - 13s 14ms/step - loss: 0.1753 - accuracy: 0.9153 - val_loss: 0.2920 - val_accuracy: 0.8451\n",
            "Epoch 8/30\n",
            "942/942 [==============================] - 13s 14ms/step - loss: 0.1530 - accuracy: 0.9323 - val_loss: 0.3968 - val_accuracy: 0.8462\n",
            "Epoch 9/30\n",
            "942/942 [==============================] - 13s 14ms/step - loss: 0.1302 - accuracy: 0.9469 - val_loss: 0.4144 - val_accuracy: 0.8453\n",
            "Epoch 10/30\n",
            "942/942 [==============================] - 13s 14ms/step - loss: 0.0839 - accuracy: 0.9673 - val_loss: 0.4248 - val_accuracy: 0.8490\n",
            "Epoch 11/30\n",
            "942/942 [==============================] - 13s 14ms/step - loss: 0.0710 - accuracy: 0.9734 - val_loss: 0.5178 - val_accuracy: 0.8499\n",
            "Epoch 12/30\n",
            "942/942 [==============================] - 13s 13ms/step - loss: 0.0525 - accuracy: 0.9799 - val_loss: 0.4700 - val_accuracy: 0.8448\n",
            "Epoch 13/30\n",
            "942/942 [==============================] - 13s 14ms/step - loss: 0.0564 - accuracy: 0.9815 - val_loss: 0.7067 - val_accuracy: 0.8484\n",
            "Epoch 14/30\n",
            "942/942 [==============================] - 13s 14ms/step - loss: 0.0574 - accuracy: 0.9831 - val_loss: 0.5455 - val_accuracy: 0.8470\n",
            "Epoch 15/30\n",
            "942/942 [==============================] - 13s 14ms/step - loss: 0.0421 - accuracy: 0.9858 - val_loss: 0.6353 - val_accuracy: 0.8494\n",
            "Epoch 16/30\n",
            "942/942 [==============================] - 13s 14ms/step - loss: 0.0365 - accuracy: 0.9871 - val_loss: 0.7162 - val_accuracy: 0.8507\n",
            "Epoch 17/30\n",
            "942/942 [==============================] - 13s 14ms/step - loss: 0.0460 - accuracy: 0.9850 - val_loss: 0.6000 - val_accuracy: 0.8490\n",
            "Epoch 18/30\n",
            "942/942 [==============================] - 13s 14ms/step - loss: 0.0449 - accuracy: 0.9874 - val_loss: 0.8287 - val_accuracy: 0.8494\n",
            "Epoch 19/30\n",
            "942/942 [==============================] - 13s 14ms/step - loss: 0.0483 - accuracy: 0.9858 - val_loss: 0.5521 - val_accuracy: 0.8483\n",
            "Epoch 20/30\n",
            "942/942 [==============================] - 13s 14ms/step - loss: 0.0358 - accuracy: 0.9875 - val_loss: 0.7520 - val_accuracy: 0.8511\n",
            "Epoch 21/30\n",
            "942/942 [==============================] - 13s 14ms/step - loss: 0.0338 - accuracy: 0.9907 - val_loss: 0.6613 - val_accuracy: 0.8478\n",
            "Epoch 22/30\n",
            "942/942 [==============================] - 13s 14ms/step - loss: 0.0469 - accuracy: 0.9866 - val_loss: 0.6820 - val_accuracy: 0.8482\n",
            "Epoch 23/30\n",
            "942/942 [==============================] - 13s 13ms/step - loss: 0.0452 - accuracy: 0.9876 - val_loss: 0.9139 - val_accuracy: 0.8502\n",
            "Epoch 24/30\n",
            "942/942 [==============================] - 13s 14ms/step - loss: 0.0242 - accuracy: 0.9913 - val_loss: 0.8013 - val_accuracy: 0.8467\n",
            "Epoch 25/30\n",
            "942/942 [==============================] - 13s 14ms/step - loss: 0.0416 - accuracy: 0.9884 - val_loss: 0.9495 - val_accuracy: 0.8480\n",
            "Epoch 26/30\n",
            "942/942 [==============================] - 13s 14ms/step - loss: 0.0521 - accuracy: 0.9879 - val_loss: 0.6766 - val_accuracy: 0.8488\n",
            "Epoch 27/30\n",
            "942/942 [==============================] - 13s 13ms/step - loss: 0.0299 - accuracy: 0.9921 - val_loss: 0.9489 - val_accuracy: 0.8483\n",
            "Epoch 28/30\n",
            "942/942 [==============================] - 13s 14ms/step - loss: 0.0253 - accuracy: 0.9920 - val_loss: 0.9203 - val_accuracy: 0.8504\n",
            "Epoch 29/30\n",
            "942/942 [==============================] - 13s 14ms/step - loss: 0.0248 - accuracy: 0.9915 - val_loss: 0.5721 - val_accuracy: 0.8467\n",
            "Epoch 30/30\n",
            "942/942 [==============================] - 13s 14ms/step - loss: 0.0334 - accuracy: 0.9906 - val_loss: 1.1060 - val_accuracy: 0.8470\n"
          ]
        }
      ]
    },
    {
      "cell_type": "code",
      "source": [
        "y_pred = model.predict(X_test)"
      ],
      "metadata": {
        "colab": {
          "base_uri": "https://localhost:8080/"
        },
        "id": "finNNQBIO_6O",
        "outputId": "a7686a22-ee7a-4607-9829-9f39a9ab34c4"
      },
      "execution_count": 79,
      "outputs": [
        {
          "output_type": "stream",
          "name": "stdout",
          "text": [
            "619/619 [==============================] - 2s 3ms/step\n"
          ]
        }
      ]
    },
    {
      "cell_type": "code",
      "source": [
        "preds_classes = np.argmax(y_pred, axis=-1)\n",
        "preds_classes"
      ],
      "metadata": {
        "colab": {
          "base_uri": "https://localhost:8080/"
        },
        "id": "hsmMg-n8S7h0",
        "outputId": "796d01ae-cd39-4ae3-c82e-7ba7e0e11b7a"
      },
      "execution_count": 80,
      "outputs": [
        {
          "output_type": "execute_result",
          "data": {
            "text/plain": [
              "array([1, 3, 1, ..., 5, 3, 4])"
            ]
          },
          "metadata": {},
          "execution_count": 80
        }
      ]
    },
    {
      "cell_type": "code",
      "source": [
        "c0 = \"Blowfish\"\n",
        "c1 = \"Caesar\"\n",
        "c2 = \"DES\"\n",
        "c3 = \"MD5\"\n",
        "c4 = \"Monoalphabetic\"\n",
        "c5 = \"RSA\""
      ],
      "metadata": {
        "id": "9cRff2ToWbMP"
      },
      "execution_count": 66,
      "outputs": []
    },
    {
      "cell_type": "code",
      "source": [
        "y_test = np.argmax(y_test, axis=-1)\n",
        "cfm = confusion_matrix(y_test, preds_classes)\n",
        "cm_display = metrics.ConfusionMatrixDisplay(confusion_matrix = cfm, display_labels = [c0, c1, c2, c3, c4, c5])\n",
        "cm_display.plot()\n",
        "plt.show()"
      ],
      "metadata": {
        "colab": {
          "base_uri": "https://localhost:8080/",
          "height": 449
        },
        "id": "KC65NRLETjbf",
        "outputId": "f9694554-759b-44a9-94d1-f4cd4f2134de"
      },
      "execution_count": 81,
      "outputs": [
        {
          "output_type": "display_data",
          "data": {
            "text/plain": [
              "<Figure size 640x480 with 2 Axes>"
            ],
            "image/png": "[encoded data removed]"
          },
          "metadata": {}
        }
      ]
    },
    {
      "cell_type": "code",
      "source": [
        "# summarize history for accuracy\n",
        "plt.plot(history.history['accuracy'])\n",
        "plt.plot(history.history['val_accuracy'])\n",
        "plt.title('model accuracy')\n",
        "plt.ylabel('accuracy')\n",
        "plt.xlabel('epoch')\n",
        "plt.legend(['Train', 'Validation'], loc='upper left')\n",
        "plt.show()\n",
        "# summarize history for loss\n",
        "plt.plot(history.history['loss'])\n",
        "plt.plot(history.history['val_loss'])\n",
        "plt.title('model loss')\n",
        "plt.ylabel('loss')\n",
        "plt.xlabel('epoch')\n",
        "plt.legend(['Train', 'Validation'], loc='upper left')\n",
        "plt.show()\n",
        "\n"
      ],
      "metadata": {
        "colab": {
          "base_uri": "https://localhost:8080/",
          "height": 927
        },
        "id": "W0jey7PkT3ms",
        "outputId": "1ce035fa-ff60-44f9-c751-4291a1bc4aab"
      },
      "execution_count": 82,
      "outputs": [
        {
          "output_type": "display_data",
          "data": {
            "text/plain": [
              "<Figure size 640x480 with 1 Axes>"
            ],
            "image/png": "[encoded data removed]"
          },
          "metadata": {}
        },
        {
          "output_type": "display_data",
          "data": {
            "text/plain": [
              "<Figure size 640x480 with 1 Axes>"
            ],
            "image/png": "[encoded data removed]"
          },
          "metadata": {}
        }
      ]
    }
  ]
}